{
  "metadata": {
    "kernelspec": {
      "name": "python",
      "display_name": "Python (Pyodide)",
      "language": "python"
    },
    "language_info": {
      "codemirror_mode": {
        "name": "python",
        "version": 3
      },
      "file_extension": ".py",
      "mimetype": "text/x-python",
      "name": "python",
      "nbconvert_exporter": "python",
      "pygments_lexer": "ipython3",
      "version": "3.8"
    }
  },
  "nbformat_minor": 5,
  "nbformat": 4,
  "cells": [
    {
      "id": "c690d7b8-e33d-4cbe-8e52-f298d05634aa",
      "cell_type": "code",
      "source": "#1. Explain the purpose of REST APIs and how they are commonly used in web development.\n   #REST is abreviated as Representational State Transfer APIs is way for systems to communicate over HTTP by following REST principles.\n   #They allow different applications, often running on different platforms, to interact seamlessly.\n   #For example, it is used in. for Frontend-Backend Communication, also for services like payment gateways (PayPal, Easebuzz)\n\n#2. What is the difference between GET and POST requests in REST APIs? Provide examples of when each should be used.\n   #Differencs between GET and POST:\n   #GET  : It retrieves data and it is idempotent meaning that it gets same response as request and can be cached.\n   #POST : It submits data and it may create give multiple resources and cannot be cached.\n   #Example :\n   #GET /users/abc: Fetches user details.\n   #POST /users: Creates a new user.\n\n#3. How do you handle errors when making requests to a REST API in Python? Describe the process and provide a code example.\n   #1. Using requests library to send the requests.\n   #2. Checking the HTTP status code.\n   #3. Handling exceptions like requests.exceptions.RequestException.\nimport requests\n\ndef fetch_data(url):\n    try:\n        response = requests.get(url)\n        response.raise_for_status()\n        return response.json()\n    except requests.exceptions.HTTPError as http_err:\n        print(f\"HTTP error occurred: {http_err}\")\n    except requests.exceptions.ConnectionError:\n        print(\"Connection error. Check your internet.\")\n    except requests.exceptions.Timeout:\n        print(\"Request timed out.\")\n    except requests.exceptions.RequestException as err:\n        print(f\"An error occurred: {err}\")\n\ndata = fetch_data(\"https://en.wikipedia.org/wiki/Earth\")\nprint(data)",
      "metadata": {
        "trusted": true
      },
      "outputs": [
        {
          "name": "stdout",
          "output_type": "stream",
          "text": "Connection error. Check your internet.\nNone\n"
        }
      ],
      "execution_count": 1
    },
    {
      "id": "bfcd38dc-c7bb-4fd7-a9b4-b3b1432703ab",
      "cell_type": "code",
      "source": "#4. Describe how you would parse JSON data received from a REST API in Python.\n   #Using Python's built-in json module or using requests library...\nimport json\nresponse = '{\"name\": \"Rahman\", \"age\": 20}'\ndata = json.loads(response)\nprint(data[\"name\"])\n\n#5. Explain how to serialize a Python dictionary to a JSON string and save it to a file.\nimport json\n\ndata = {\"name\": \"Rahman\", \"age\": 20, \"city\": \"Vadodara\"}\nwith open(\"data.json\", \"w\") as file:\n    json.dump(data, file, indent=4)\n\n#6. Write a Python function to make a GET request to a REST API and return the parsed JSON response.\nimport requests\n\ndef get_json(url):\n    response = requests.get(url)\n    if response.status_code == 200:\n        return response.json()\n    else:\n        return {\"error\": f\"Request failed with status {response.status_code}\"}\n\nprint(get_json(\"https://jsonplaceholder.typicode.com/todos/1\"))",
      "metadata": {
        "trusted": true
      },
      "outputs": [
        {
          "name": "stdout",
          "output_type": "stream",
          "text": "Rahman\n"
        }
      ],
      "execution_count": null
    },
    {
      "id": "4048a763-e6b7-4152-9d52-3d01eb7b16b6",
      "cell_type": "code",
      "source": "#7. Write a Python script that makes a POST request to a REST API with JSON data. Include error handling for common HTTP status codes.\nimport requests\n\ndef post_data(url, data):\n    try:\n        response = requests.post(url, json=data)\n        response.raise_for_status()\n        return response.json()\n    except requests.exceptions.HTTPError as err:\n        print(f\"HTTP Error: {err}\")\n    except requests.exceptions.ConnectionError:\n        print(\"Connection Error! Check your internet.\")\n    except requests.exceptions.Timeout:\n        print(\"Request Timed Out!\")\n    except requests.exceptions.RequestException as err:\n        print(f\"Request Error: {err}\")\n\nurl = \"https://jsonplaceholder.typicode.com/posts\"\ndata = {\"title\": \"Hello\", \"body\": \"This is a test\", \"userId\": 1}\n\nresponse = post_data(url, data)\nprint(response)\n\n#8. Given a JSON response from a REST API, write a Python function to extract specific fields and return them in a new dictionary.\ndef extract_fields(json_data, fields):\n    return {field: json_data.get(field) for field in fields}\n\nresponse_data = {\n    \"userId\": 1,\n    \"id\": 101,\n    \"title\": \"Sample Post\",\n    \"body\": \"This is a sample body.\"\n}\n\nfields_to_extract = [\"id\", \"title\"]\n\nresult = extract_fields(response_data, fields_to_extract)\nprint(result)\n\n#9. Create a Python function that reads JSON data from a file, updates a specific field, and writes the updated data back to the file.\nimport json\n\ndef update_json(file, key, new_value):\n    with open(file, \"r\") as f:\n        data = json.load(f)\n    \n    data[key] = new_value\n\n    with open(file, \"w\") as f:\n        json.dump(data, f, indent=4)\n\nupdate_json(\"data.json\", \"age\", 20)",
      "metadata": {
        "trusted": true
      },
      "outputs": [],
      "execution_count": null
    },
    {
      "id": "91c3058a-3933-4488-9962-e7d67dd96354",
      "cell_type": "code",
      "source": "#10. Explain the steps to connect to an SQLite3 database in Python.\n    #Steps To connect to an SQLite3 database in Python:\n\t\t#Import SQLite3: import sqlite3\n\t\t#Connect to a database: conn = sqlite3.connect(\"database.db\")\n\t\t#Create a cursor: cursor = conn.cursor()\n\t\t#Execute SQL queries using cursor.execute()\n\t\t#Commit changes: conn.commit()\n\t\t#Close the connection: conn.close()\n\n#11. What is a cursor in SQLite3, and what is its role in executing SQL queries?\n    #A cursor is an object that allows interaction with the database.\n\t#It is used to execute SQL commands and fetch results.\ncursor = conn.cursor()\ncursor.execute(\"SELECT * FROM users\")\n\n#12. Describe how to handle exceptions when working with SQLite3 in Python. Provide an example.\n    #Using Try-Except blocks to catch errors\nimport sqlite3\n\ntry:\n    conn = sqlite3.connect(\"database.db\")\n    cursor = conn.cursor()\n    cursor.execute(\"SELECT * some_random_table\")\nexcept sqlite3.Error as e:\n    print(\"SQLite error:\", e)\nfinally:\n    conn.close()",
      "metadata": {
        "trusted": true
      },
      "outputs": [],
      "execution_count": null
    },
    {
      "id": "91b07139-003d-4f14-830c-1ebb0940cca0",
      "cell_type": "code",
      "source": "#13. Write an SQL query to create a table named users with columns id, name, and email.\n    #It is SQl, so a table cannot be created from here, but using these lines of code in oracle or mysql we could create a table as required.\nCREATE TABLE users (\n    id INTEGER PRIMARY KEY AUTOINCREMENT,\n    name TEXT NOT NULL,\n    email TEXT UNIQUE NOT NULL\n);\n\n#14. Explain how to insert a new record into the users table and how to fetch all records from the table in Python.\nimport sqlite3\n\nconn = sqlite3.connect(\"database.db\")\ncursor = conn.cursor()\n\ncursor.execute(\"INSERT INTO users (name, email) VALUES (?, ?)\", (\"Rahman\", \"abc@gmail.com\"))\nconn.commit()\n\ncursor.execute(\"SELECT * FROM users\")\nrecords = cursor.fetchall()\n\nfor row in records:\n    print(row)\n\nconn.close()\n\n#15. Write a Python function to update a record in an SQLite3 database table.\ndef update_user_email(user_id, new_email):\n    import sqlite3\n    conn = sqlite3.connect(\"database.db\")\n    cursor = conn.cursor()\n    \n    cursor.execute(\"UPDATE users SET email = ? WHERE id = ?\", (new_email, user_id))\n    conn.commit()\n    \n    conn.close()\n\nupdate_user_email(1, \"newemail@example.com\")",
      "metadata": {
        "trusted": true
      },
      "outputs": [],
      "execution_count": null
    },
    {
      "id": "f1d8fac5-869a-46cb-9cf1-3c5133cc2cd4",
      "cell_type": "code",
      "source": "#16. Create a Python script that connects to an SQLite3 database, creates a table named books, inserts a few records, and fetches all records.\nimport sqlite3\n\nconn = sqlite3.connect(\"library.db\")\ncursor = conn.cursor()\n\ncursor.execute(\"\"\"\nCREATE TABLE IF NOT EXISTS books (\n    id INTEGER PRIMARY KEY AUTOINCREMENT,\n    title TEXT NOT NULL,\n    author TEXT NOT NULL\n)\n\"\"\")\n\ncursor.executemany(\"INSERT INTO books (title, author) VALUES (?, ?)\", [ #executemany() is used to insert multiple records at once.\n\n    (\"Harry Potter\", \"J.K. Rowling\"),\n    (\"The Hobbit\", \"J.R.R. Tolkien\")\n])\n\nconn.commit()\n\ncursor.execute(\"SELECT * FROM books\")\nbooks = cursor.fetchall()\n\nfor book in books:\n    print(book)\n\nconn.close()\n\n#17. Write a Python function to execute a parameterised SQL query to prevent SQL injection attacks.\ndef fetching_user_by_email(email):\n    import sqlite3\n    conn = sqlite3.connect(\"database.db\")\n    cursor = conn.cursor()\n\n    cursor.execute(\"SELECT * FROM users WHERE email = ?\", (email,))\n    user = cursor.fetchone()\n\n    conn.close()\n    return user\n\nprint(fetching_user_by_email(\"abc@gmail.com\"))\n\n#18. Write a Python script that performs a transaction in SQLite3, ensuring that either all operations succeed or none of them are applied.\nimport sqlite3\n\ndef perform_transaction():\n    try:\n        conn = sqlite3.connect(\"bank.db\")\n        cursor = conn.cursor()\n\n        conn.execute(\"BEGIN\")\n\n        cursor.execute(\"\"\"\n        CREATE TABLE IF NOT EXISTS accounts (\n            id INTEGER PRIMARY KEY AUTOINCREMENT,\n            name TEXT NOT NULL,\n            balance INTEGER NOT NULL\n        )\"\"\")\n\n        cursor.execute(\"INSERT INTO accounts (name, balance) VALUES (?, ?)\", (\"Rahman\", 1000))\n        cursor.execute(\"INSERT INTO accounts (name, balance) VALUES (?, ?)\", (\"Arshad\", 500))\n\n        conn.commit()\n        print(\"Transaction successful!\")\n\n    except sqlite3.Error as e:\n        conn.rollback()\n        print(\"Transaction failed! Error:\", e)\n\n    finally:\n        conn.close()\n\nperform_transaction()",
      "metadata": {
        "trusted": true
      },
      "outputs": [],
      "execution_count": null
    },
    {
      "id": "6334e657-b550-48a8-bff0-473bfea42931",
      "cell_type": "code",
      "source": "#All these will not be executed as it is not connected to any sql or datbase and it is online",
      "metadata": {
        "trusted": true
      },
      "outputs": [],
      "execution_count": null
    }
  ]
}