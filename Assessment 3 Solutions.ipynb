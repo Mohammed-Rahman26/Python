{
  "metadata": {
    "kernelspec": {
      "name": "python",
      "display_name": "Python (Pyodide)",
      "language": "python"
    },
    "language_info": {
      "codemirror_mode": {
        "name": "python",
        "version": 3
      },
      "file_extension": ".py",
      "mimetype": "text/x-python",
      "name": "python",
      "nbconvert_exporter": "python",
      "pygments_lexer": "ipython3",
      "version": "3.8"
    }
  },
  "nbformat_minor": 5,
  "nbformat": 4,
  "cells": [
    {
      "id": "99381187-d8f6-4544-b341-44ce1b76bbeb",
      "cell_type": "code",
      "source": "#1. What does the map function do in Python? Provide an example.\n   #The map() function is applied in a function to the elements to iterate and iterates one by one.\nnumbers = [1, 2, 3, 4, 5, 6, 7, 8, 9, 10]\nsquares_of_numbers = list(map(lambda x: x ** 2, numbers))\nprint(squares_of_numbers)\n\n#2. How does the filter function work in Python? Provide an example.\n   #The filter() function filters elements in the list accodrding to condition.\nnumbers = [1, 2, 3, 4, 5, 6, 7, 8, 9, 10]\neven_numbers = list(filter(lambda x: x % 2 == 0, numbers))\nprint(even_numbers)\n\n#3. What is a list comprehension? Provide an example to create a list of squares of numbers from 1 to 5.\n   #List comprehension is a concise way to create lists using a single line of code.\nsquares = [x ** 2 for x in range(1, 6)]\nprint(squares)",
      "metadata": {
        "trusted": true
      },
      "outputs": [
        {
          "name": "stdout",
          "output_type": "stream",
          "text": "[1, 4, 9, 16, 25, 36, 49, 64, 81, 100]\n[2, 4, 6, 8, 10]\n[1, 4, 9, 16, 25]\n"
        }
      ],
      "execution_count": 9
    },
    {
      "id": "ee225972-db7e-4bf6-a73d-9de232131baa",
      "cell_type": "code",
      "source": "#4. Write a statement to create a list comprehension that generates a list of even numbers from 1 to 10.\nevens_in = [x for x in range(1, 11) if x % 2 == 0]\nprint(evens_in)\n\n#5. Write a simple class definition for a Person with attributes name and age.\nclass Person:\n    def __init__(self, name, age):\n        self.name = name\n        self.age = age",
      "metadata": {
        "trusted": true
      },
      "outputs": [
        {
          "name": "stdout",
          "output_type": "stream",
          "text": "[2, 4, 6, 8, 10]\n"
        }
      ],
      "execution_count": 16
    },
    {
      "id": "7ab6e5b2-543f-4ed8-a279-84fa5e2b470a",
      "cell_type": "code",
      "source": "#6. Write a Python function using map that takes a list of numbers and returns a list of their squares.\ndef square_numbers(numbers):\n    return list(map(lambda x: x ** 2, numbers))\n\nprint(square_numbers([1, 2, 3, 4, 5]))\n\n#7. Create a list of numbers from 1 to 10. Use filter to create a new list that only contains even numbers.\nnumbers = list(range(1, 11))\neven_numbers = list(filter(lambda x: x % 2 == 0, numbers))\nprint(even_numbers)\n\n#8. Write a Python class Dog with an attribute name and a method bark() that prints \"Woof!\".\nclass Dog:\n    def __init__(self, name):\n        self.name = name\n\n    def bark(self):\n        print(\"Woof!\")\n\npet_dog = Dog(\"Fluffy\")\npet_dog.bark()",
      "metadata": {
        "trusted": true
      },
      "outputs": [
        {
          "name": "stdout",
          "output_type": "stream",
          "text": "[1, 4, 9, 16, 25]\n[2, 4, 6, 8, 10]\nWoof!\n"
        }
      ],
      "execution_count": 18
    },
    {
      "id": "3f58fdac-b07f-493d-9e47-373e03df2b07",
      "cell_type": "code",
      "source": "#9. Explain the difference between map and filter functions with examples.\n   #map: Itself is a function applies to each element in an iterable and returns a new iterable with updated value according to comdition.\n   #filter: Itself is a function that returns True or False to each element and returns only value that gives True.\n#Example of map():\nnumbers = [1, 2, 3, 4, 5]\nsquares = list(map(lambda x: x ** 2, numbers))\nprint(squares)\n#Example of filter():\nnumbers = [1, 2, 3, 4, 5,]\nevens = list(filter(lambda x: x % 2 == 0, numbers))\nprint(evens)\n\n#10. How do you use dictionary comprehension in Python? Provide an example to create a dictionary from a list of tuples.\n    #Dictionary comprehension is used to create dictionaries using the syntax {key: value}.\ntuples = [(\"a\", 1), (\"b\", 2), (\"c\", 3)]\ndictionary = {key: value for key, value in tuples}\nprint(dictionary)\n#11. What is a lambda function in Python? Provide an example to create an anonymous function that adds two numbers.\n    #A lambda function in python is used to elimanate the complex defining function system and make it easier.\nadd = lambda x, y: x + y\nprint(add(1, 6))",
      "metadata": {
        "trusted": true
      },
      "outputs": [
        {
          "name": "stdout",
          "output_type": "stream",
          "text": "[1, 4, 9, 16, 25]\n[2, 4]\n{'a': 1, 'b': 2, 'c': 3}\n7\n"
        }
      ],
      "execution_count": 22
    },
    {
      "id": "4f6527d8-2d3b-4adc-b1f9-4f2de89eac8b",
      "cell_type": "code",
      "source": "#12. Write a statement to create a list comprehension that generates a list of tuples (number, square) for numbers from 1 to 5.\n    #We can do it using the key and values of dictionary but it takes more code to run.\nsquares = [(x, x ** 2) for x in range(1, 6)]\nprint(squares)\n\n#13. Write a statement to create a dictionary comprehension that maps each character in the string \"hello\" to its ASCII value.\n    #ord is used to divide the string and return its ascii value using char.\nascii_map = {char: ord(char) for char in \"hello\"}\nprint(ascii_map)",
      "metadata": {
        "trusted": true
      },
      "outputs": [
        {
          "name": "stdout",
          "output_type": "stream",
          "text": "[(1, 1), (2, 4), (3, 9), (4, 16), (5, 25)]\n{'h': 104, 'e': 101, 'l': 108, 'o': 111}\n"
        }
      ],
      "execution_count": 26
    },
    {
      "id": "1259ddc3-8e8b-4e31-a4c2-35266a18feb2",
      "cell_type": "code",
      "source": "#14. Write a Python function using filter that takes a list of strings and returns a list of strings that contain the letter 'a'.\ndef filtering_strings_with_a(strings):\n    return list(filter(lambda s: 'a' in s, strings))\n\nwords = [\"Rahman\", \"Farhan\", \"Arshad\", \"Akhilesh\", \"Mahi\", \"Sam\"]\nprint(filtering_strings_with_a(words))\n\n#15. Create a class Circle with an attribute radius and a method area() that returns the area of the circle.\nclass Circle:\n    def __init__(self, radius):\n        self.radius = radius\n\n    def area(self):\n        return self.radius * self.radius\n\nc = Circle(10)\nprint(c.area())\n\n#16. Write a Python function using map and lambda that takes a list of numbers and returns a list of their cubes.\ndef cube_numbers(numbers):\n    return list(map(lambda x: x ** 3, numbers))\n\nprint(cube_numbers([1, 2, 3, 4, 5, 6, 7, 8, 9, 10]))",
      "metadata": {
        "trusted": true
      },
      "outputs": [
        {
          "name": "stdout",
          "output_type": "stream",
          "text": "['Rahman', 'Farhan', 'Arshad', 'Mahi', 'Sam']\n100\n[1, 8, 27, 64, 125, 216, 343, 512, 729, 1000]\n"
        }
      ],
      "execution_count": 31
    },
    {
      "id": "6a06d1cd-158f-47c2-86a8-702751dc3f65",
      "cell_type": "code",
      "source": "#17. How can you use map, filter, and lambda together in a single statement? Provide an example.\n    #We can use filter retunr elements if they are true to the condition, map to update those elements and lambda to define function without actually defining function.\n    #In this question we use map update those elements, lamda to return squares from the list and filter to return value accodrding to condition.\nnumbers = [1, 2, 3, 4, 5, 6, 7, 8, 9, 10]\nanswer= list(map(lambda x: x ** 2, filter(lambda x: x % 2 == 0, numbers)))\nprint(answer)\n    #filter(lambda x: x % 2 == 0, numbers): Filters even numbers.\n\t#map(lambda x: x ** 2): Squares the filtered numbers.\n\n#18. Explain the concept of inheritance in Python with an example.\n    #Inheritance is bascially used to reuse the previous code present in the parent class by child class or sub class\nclass Animal:\n    def speak(self):\n        return \"Animal sound\"\n\nclass Dog(Animal):\n    def speak(self):\n        return \"Woof!\"\n\ndog = Dog()\nprint(dog.speak())\n    #In this code Dog is inherited from animal function in parent class.\n\n#19. What are the benefits of using list comprehension over traditional for loops in Python?\n    #Reduces multiple lines of code to a single line.\n    #Runs faster than traditional loops.\n    #Easy to read and operate.\n    #It is more memory efficient.",
      "metadata": {
        "trusted": true
      },
      "outputs": [
        {
          "name": "stdout",
          "output_type": "stream",
          "text": "[4, 16, 36, 64, 100]\nWoof!\n"
        }
      ],
      "execution_count": 34
    },
    {
      "id": "948d9e03-b2ae-4b2f-bd1c-63c3705ddf1c",
      "cell_type": "code",
      "source": "#20. Write a statement to create a nested list comprehension that generates a 3x3 matrix of zeros.\n    #This is a simple statement question to answer.\nmatrix = [[0 for _ in range(3)] for _ in range(3)]\nprint(matrix) #creating 3 by 3 matrix \n\n#21. Write a statement to create a class Employee that inherits from a class Person and adds an attribute employee_id.\n    #Here we use super function to use the parent function attributes reducing code and no need to redine them in child class.\nclass Person:\n    def __init__(self, name, age):\n        self.name = name\n        self.age = age\n\nclass Employee(Person):\n    def __init__(self, name, age, employee_id):\n        super().__init__(name, age)\n        self.employee_id = employee_id",
      "metadata": {
        "trusted": true
      },
      "outputs": [
        {
          "name": "stdout",
          "output_type": "stream",
          "text": "[[0, 0, 0], [0, 0, 0], [0, 0, 0]]\n"
        }
      ],
      "execution_count": 37
    },
    {
      "id": "fecb19ae-ecec-4f65-861a-4c5f0985fd7d",
      "cell_type": "code",
      "source": "#22. Write a Python function using filter and lambda that takes a list of numbers and returns a list of prime numbers.\n    # We declared that 1 is not prime but making n greater than 1 and writing condition for the prime number and using the function is_prime to fliter from the list of numbers in list numbers.\ndef is_prime(n):\n    return n > 1 and all(n % i != 0 for i in range(2, int(n ** 0.5) + 1))\n\ndef filtered_prime_numbers(numbers):\n    return list(filter(lambda x: is_prime(x), numbers))\n\nnumbers = [1, 2, 3, 4, 5, 6, 7, 8, 9, 10]\nprint(filtered_prime_numbers(numbers))\n\n#23. Create a class Rectangle with attributes width and height, and methods area() and perimeter() that return the area and perimeter of the rectangle, respectively.\nclass Rectangle:\n    def __init__(self, width, height):\n        self.width = width\n        self.height = height\n\n    def area(self):\n        return self.width * self.height\n\n    def perimeter(self):\n        return 2 * (self.width + self.height)\n\nr = Rectangle(5, 10)\nprint( \"area :\", r.area())\nprint(\"perimeter :\", r.perimeter())\n\n#24. Write a Python function that uses map, filter, and lambda to process a list of strings by converting them to uppercase and filtering out strings shorter than 5 characters.\ndef processing_strings(strings):\n    return list(map(lambda s: s.upper(), filter(lambda s: len(s) >= 5, strings)))\n\nwords = [\"rahman\", \"ali\", \"farhan\", \"mahi\", \"akhilesh\", \"arshad\", \"sam\"]\nprint(processing_strings(words)) ",
      "metadata": {
        "trusted": true
      },
      "outputs": [
        {
          "name": "stdout",
          "output_type": "stream",
          "text": "[2, 3, 5, 7]\narea : 50\nperimeter : 30\n['RAHMAN', 'FARHAN', 'AKHILESH', 'ARSHAD']\n"
        }
      ],
      "execution_count": 43
    }
  ]
}