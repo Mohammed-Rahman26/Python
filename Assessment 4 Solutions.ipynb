{
  "metadata": {
    "kernelspec": {
      "name": "python",
      "display_name": "Python (Pyodide)",
      "language": "python"
    },
    "language_info": {
      "codemirror_mode": {
        "name": "python",
        "version": 3
      },
      "file_extension": ".py",
      "mimetype": "text/x-python",
      "name": "python",
      "nbconvert_exporter": "python",
      "pygments_lexer": "ipython3",
      "version": "3.8"
    }
  },
  "nbformat_minor": 5,
  "nbformat": 4,
  "cells": [
    {
      "id": "b5c832ea-940e-4168-976a-caaae55c2c69",
      "cell_type": "code",
      "source": "#1. Explain the difference between a list and a tuple in Python. Provide examples.\n   #List: Mutable, can be modified after creating. It is defined using [].\n   #Tuple: Immutable, cannot be modified after creating. It is defined using ().\nexample_list = [1, 2, 3]\nexample_tuple = (1, 2, 3)\nexample_list.append(4)\n#example_tuple.append(4) As tuple is immutable we cannot modify it...\nprint(example_list)\n\n#2. What is the significance of the self parameter in class methods?\n   #When you create an object from a class, self represents that specific object.\n   #It helps store and retrieve data unique to each object.\n\n#3. How do you handle exceptions in Python? Provide an example using try, except, and finally.\n   #Using try to test code, except to identify errors, and finally to execute cleaned up code.\ntry:\n    x = 1 / 0\nexcept ZeroDivisionError:\n    print(\"Cannot be divided by zero!\")\nfinally:\n    print(\"Execution completed.\")",
      "metadata": {
        "trusted": true
      },
      "outputs": [
        {
          "name": "stdout",
          "output_type": "stream",
          "text": "[1, 2, 3, 4]\nCannot be divided by zero!\nExecution completed.\n"
        }
      ],
      "execution_count": 9
    },
    {
      "id": "f6d68100-3da4-4481-830f-28a206b064d8",
      "cell_type": "code",
      "source": "#4. Write a statement to create a dictionary comprehension that maps each word in a list to its length.\nwords = [\"Rahman\", \"Arshad\", \"Farhan\"]\nword_lengths = {word: len(word) for word in words}\nprint(word_lengths)\n\n#5. Write a statement to create a set of unique characters from a given string.\nunique_chars = set(\"Rahman\")\nprint(unique_chars) # a will not be printed twice eventhough there are two a's present in the string\n\n#6. Write a statement to create a list of even numbers between 1 and 20 using list comprehension.\neven_numbers = [x for x in range(1, 21) if x % 2 == 0]\nprint(even_numbers)",
      "metadata": {
        "trusted": true
      },
      "outputs": [
        {
          "name": "stdout",
          "output_type": "stream",
          "text": "{'Rahman': 6, 'Arshad': 6, 'Farhan': 6}\n{'n', 'm', 'h', 'a', 'R'}\n[2, 4, 6, 8, 10, 12, 14, 16, 18, 20]\n"
        }
      ],
      "execution_count": 20
    },
    {
      "id": "2cb2d196-6f93-4455-beb2-6dec10e499df",
      "cell_type": "code",
      "source": "#7. Write a Python function that takes a string and returns a dictionary with the frequency of each character in the string.\ndef char_frequency(s):\n    return {char: s.count(char) for char in set(s)}\nprint(char_frequency(\"Mohammed Rahman\"))\n\n#8. Create a class BankAccount with attributes account_number and balance, and methods deposit and withdraw.\nclass BankAccount:\n    def __init__(self, account_number, balance=0):\n        self.account_number = account_number\n        self.balance = balance\n    def deposit(self, amount):\n        self.balance += amount\n    def withdraw(self, amount):\n        if amount <= self.balance:\n            self.balance -= amount\n        else:\n            print(\"Insufficient balance\")\n\n#9. Write a function that uses filter and lambda to remove all negative numbers from a list.\nremove_negatives = lambda lst: list(filter(lambda x: x >= 0, lst))\nprint(remove_negatives([-5, 3, -2, 9, 0, 1, 5, 7]))\n\n#10. Write a function that accepts a list of numbers and returns a list of their square roots, excluding negative numbers, using map and filter.\nimport math\ndef sqrt_list(numbers):\n    return list(map(math.sqrt, filter(lambda x: x >= 0, numbers)))\nprint(sqrt_list([-4, 9, 16, -25, 36, 49, 64, 81, 100, -100]))",
      "metadata": {
        "trusted": true
      },
      "outputs": [
        {
          "name": "stdout",
          "output_type": "stream",
          "text": "{'o': 1, 'n': 1, 'M': 1, 'm': 3, 'h': 2, 'e': 1, 'd': 1, 'a': 3, ' ': 1, 'R': 1}\n[3, 9, 0, 1, 5, 7]\n[3.0, 4.0, 6.0, 7.0, 8.0, 9.0, 10.0]\n"
        }
      ],
      "execution_count": 32
    },
    {
      "id": "5e361edb-f17f-4d31-b674-a58dbbdbbd92",
      "cell_type": "code",
      "source": "# Realistic Problem\n#11. Write a Python script to read a file and count the frequency of each word in the file. Ignore case and punctuation.\nimport string\n\ndef count_word_frequency(filename):\n    with open(filename, 'r', encoding='utf-8') as file:\n        text = file.read().lower().translate(str.maketrans('', '', string.punctuation))\n    return {word: text.split().count(word) for word in set(text.split())}\n    \nprint(count_word_frequency(\"sample_file.txt\"))\n# When working in the editor present in the computer, we can enter the exact filename and\n#make it read and count the frequency of each word present in it excluding what type of case and punction marks.\n#If I execute the code noe it would obviously show error because of sample_file.txt.",
      "metadata": {
        "trusted": true
      },
      "outputs": [],
      "execution_count": 40
    },
    {
      "id": "ed15a4d8-a449-472a-94e2-9d7b7211309d",
      "cell_type": "code",
      "source": "#12. What is a generator in Python, and how does it differ from a list comprehension? Provide an example.\n    #A generator in Python is a special type of iterable that produces values using the yield keyword. It does not store all values in memory at once, which makes it memory-efficient.\n    #Difference:\n\t\t#Generator: Uses () and yields values one by one (lazy evaluation).\n\t\t#List comprehension: Uses [] and creates the full list in memory.\ngen = (x * 2 for x in range(5))  # it is the generator\nprint(next(gen))\nprint(next(gen))\nprint(next(gen))\n\nlst = [x * 2 for x in range(10)]\nprint(lst)\n\n#13. Explain method overriding in Python with an example.\nclass Animal:\n    def speak(self):\n        print(\"Animal speaks\")\n\nclass Dog(Animal):\n    def speak(self):\n        print(\"Dog barks\")\n\na = Animal()\nd = Dog()\n\na.speak()\nd.speak()\n#Method overriding allows a subclass to provide a specific implementation of a method that is already defined in its superclass. \n#The method in the subclass should have the same name, parameters, and return type.\n#Here in the above code dog barks is overrided by animal speaks present int the superclass by subclass.\n\n#14. Describe the use of decorators in Python with an example.\n    #I absoultely have no idea about decorator. I assure that i would learn and practice about it after my assessment.",
      "metadata": {
        "trusted": true
      },
      "outputs": [
        {
          "name": "stdout",
          "output_type": "stream",
          "text": "0\n2\n4\n[0, 2, 4, 6, 8, 10, 12, 14, 16, 18]\nAnimal speaks\nDog barks\n"
        }
      ],
      "execution_count": 45
    },
    {
      "id": "a9a5c2f7-0cb0-4021-86ea-e90d4ade5b9a",
      "cell_type": "code",
      "source": "#15. Write a statement to create a list of tuples (number, square, cube) for numbers from 1 to 10 using list comprehension.\nmy_list = [(x, x**2, x**3) for x in range(1, 11)]\nprint(my_list)\n\n#16. Write a statement to handle division by zero exception in Python.\n    #We have already this in defining try, except and finally...\ntry:\n    result = 1 / 0\nexcept ZeroDivisionError:\n    print(\"Cannot divide by zero!\")",
      "metadata": {
        "trusted": true
      },
      "outputs": [
        {
          "name": "stdout",
          "output_type": "stream",
          "text": "[(1, 1, 1), (2, 4, 8), (3, 9, 27), (4, 16, 64), (5, 25, 125), (6, 36, 216), (7, 49, 343), (8, 64, 512), (9, 81, 729), (10, 100, 1000)]\nCannot divide by zero!\n"
        }
      ],
      "execution_count": 81
    },
    {
      "id": "ae6cfb09-b6b4-4759-a392-89d7348b673b",
      "cell_type": "code",
      "source": "#17. Write a Python function that implements binary search on a sorted list.\ndef binary_search(arr, target):\n    left, right = 0, len(arr) - 1\n\n    while left <= right:\n        mid = (left + right) // 2\n        if arr[mid] == target:\n            return mid\n        elif arr[mid] < target:\n            left = mid + 1\n        else:\n            right = mid - 1\n\n    return -1\n\narr = [1, 3, 5, 7, 9, 11]\ntarget = 7\nprint(binary_search(arr, target))\n\n#18. Create a class Employee with attributes name, position, and salary. Add a method to give a raise and a method to display employee details.\nclass Employee:\n    def __init__(self, name, position, salary):\n        self.name = name\n        self.position = position\n        self.salary = salary\n\n    def give_raise(self, amount):\n        self.salary += amount\n\n    def display(self):\n        print(f\"Name: {self.name}, Position: {self.position}, Salary: {self.salary}\")\n\n# Example\ne = Employee(\"Arshad\", \"Developer\", 100000)\ne.give_raise(11000)\ne.display()\n\n# Question number 19 is at last...(little problem)\n\n#20. Write a Python function that takes a list of dictionaries and returns a list of dictionaries sorted by a specified key.\ndef sort_dicts(lst, key):\n    return sorted(lst, key=lambda x: x[key])\n\ndata = [{\"name\": \"Rahman\", \"age\": 20}, {\"name\": \"Arshad\", \"age\": 19}]\nprint(sort_dicts(data, \"age\"))\n\n#21. Write a Python function using regular expressions to find and return all dates in the format dd-mm-yyyy from a given text.\nimport re\n\ndef extract_dates(text):\n    return re.findall(r'\\b\\d{2}-\\d{2}-\\d{4}\\b', text)\n\ntext = \"Today's date is 10-03-2025. Another date is 15-03-2025.\"\nprint(extract_dates(text))\n\n#22. Write a Python function that takes a string and returns True if it is a valid IP address (IPv4), and False otherwise. Use regular expressions for validation.\nimport re\n\ndef is_valid_ip_adress(ip):\n    pattern = r'^(\\d{1,3}\\.){3}\\d{1,3}$'\n    if re.match(pattern, ip):\n        return all(0 <= int(part) <= 255 for part in ip.split('.'))\n    return False\n\nprint(is_valid_ip_adress(\"192.168.1.2\"))\nprint(is_valid_ip_adress(\"999.999.999.999\"))\n\n#23. Write a Python function that replaces all sequences of multiple spaces in a string with a single space. Use regular expressions to achieve this.\nimport re\n\ndef removing_extra_spaces(text):\n    return re.sub(r'\\s+', ' ', text).strip()\n\ntext = \"This   is   a  test    string. After  executing  it  will  give  output  of  string   with  single  space.\"\nprint(removing_extra_spaces(text))",
      "metadata": {
        "trusted": true
      },
      "outputs": [
        {
          "name": "stdout",
          "output_type": "stream",
          "text": "3\nName: Arshad, Position: Developer, Salary: 111000\n[{'name': 'Arshad', 'age': 19}, {'name': 'Rahman', 'age': 20}]\n['10-03-2025', '15-03-2025']\nTrue\nFalse\nThis is a test string. After executing it will give output of string with single space.\n"
        }
      ],
      "execution_count": 75
    },
    {
      "id": "69d145e7-7c15-434f-9724-36c45c9e5da1",
      "cell_type": "code",
      "source": "#24. Realistic Problem: Library Management System\nclass Book:\n    def __init__(self, title, author):\n        self.title = title\n        self.author = author\n        self.available = True\n\nclass Library:\n    def __init__(self):\n        self.books = []\n\n    def add_book(self, title, author):\n        self.books.append(Book(title, author))\n\n    def show_books(self):\n        print(\"\\nAvailable books:\")\n        for book in self.books:\n            if book.available:\n                print(f\"- {book.title} by {book.author}\")\n\n    def borrow_book(self, title):\n        for book in self.books:\n            if book.title == title and book.available:\n                book.available = False\n                return book\n        print(\"Book not available.\")\n        return None\n\n    def return_book(self, book):\n        book.available = True\n\nclass User:\n    def __init__(self, name):\n        self.name = name\n        self.borrowed_books = []\n\n    def borrow(self, library, title):\n        book = library.borrow_book(title)\n        if book:\n            self.borrowed_books.append(book)\n            print(f\"{self.name} borrowed '{title}'.\")\n\n    def return_book(self, library, title):\n        for book in self.borrowed_books:\n            if book.title == title:\n                self.borrowed_books.remove(book)\n                library.return_book(book)\n                print(f\"{self.name} returned '{title}'.\")\n                return\n        print(f\"{self.name} didn't borrow '{title}'.\")\n\n# --- Example Usage ---\nlibrary = Library()\nlibrary.add_book(\"Ted Talks\", \"Chris Anderson\")\nlibrary.add_book(\"The Psychology of Money\", \"Morgan Housel\")\n\nlibrary.show_books()\n\nuser = User(\"Rahman\")\nuser.borrow(library, \"Ted Talks\")\nlibrary.show_books()\n\nuser.return_book(library, \"Ted Talks\")\nlibrary.show_books()",
      "metadata": {
        "trusted": true
      },
      "outputs": [
        {
          "name": "stdout",
          "output_type": "stream",
          "text": "\nAvailable books:\n- Ted Talks by Chris Anderson\n- The Psychology of Money by Morgan Housel\nRahman borrowed 'Ted Talks'.\n\nAvailable books:\n- The Psychology of Money by Morgan Housel\nRahman returned 'Ted Talks'.\n\nAvailable books:\n- Ted Talks by Chris Anderson\n- The Psychology of Money by Morgan Housel\n"
        }
      ],
      "execution_count": 77
    },
    {
      "id": "70fceaf2-0ebf-462b-87a6-fc537957bccb",
      "cell_type": "code",
      "source": "#19. Write a function using map and lambda to convert a list of temperatures in Celsius to Fahrenheit.\ncelsius = [0, 10, 36, 48]  \nfahrenheit = list(map(lambda c: (c * 9/5) + 32, celsius))  \nprint(fahrenheit)\n\n#Previously in the codes I have assigned some value to a variable naming as list but after changing the variable name also it is showing me the error.\n#I did not understand what is the problem that it is not executing.",
      "metadata": {
        "trusted": true
      },
      "outputs": [
        {
          "ename": "<class 'TypeError'>",
          "evalue": "'list' object is not callable",
          "traceback": [
            "\u001b[0;31m---------------------------------------------------------------------------\u001b[0m",
            "\u001b[0;31mTypeError\u001b[0m                                 Traceback (most recent call last)",
            "Cell \u001b[0;32mIn[84], line 3\u001b[0m\n\u001b[1;32m      1\u001b[0m \u001b[38;5;66;03m#19. Write a function using map and lambda to convert a list of temperatures in Celsius to Fahrenheit.\u001b[39;00m\n\u001b[1;32m      2\u001b[0m celsius \u001b[38;5;241m=\u001b[39m [\u001b[38;5;241m0\u001b[39m, \u001b[38;5;241m10\u001b[39m, \u001b[38;5;241m36\u001b[39m, \u001b[38;5;241m48\u001b[39m]  \n\u001b[0;32m----> 3\u001b[0m fahrenheit \u001b[38;5;241m=\u001b[39m \u001b[38;5;28;43mlist\u001b[39;49m\u001b[43m(\u001b[49m\u001b[38;5;28;43mmap\u001b[39;49m\u001b[43m(\u001b[49m\u001b[38;5;28;43;01mlambda\u001b[39;49;00m\u001b[43m \u001b[49m\u001b[43mc\u001b[49m\u001b[43m:\u001b[49m\u001b[43m \u001b[49m\u001b[43m(\u001b[49m\u001b[43mc\u001b[49m\u001b[43m \u001b[49m\u001b[38;5;241;43m*\u001b[39;49m\u001b[43m \u001b[49m\u001b[38;5;241;43m9\u001b[39;49m\u001b[38;5;241;43m/\u001b[39;49m\u001b[38;5;241;43m5\u001b[39;49m\u001b[43m)\u001b[49m\u001b[43m \u001b[49m\u001b[38;5;241;43m+\u001b[39;49m\u001b[43m \u001b[49m\u001b[38;5;241;43m32\u001b[39;49m\u001b[43m,\u001b[49m\u001b[43m \u001b[49m\u001b[43mcelsius\u001b[49m\u001b[43m)\u001b[49m\u001b[43m)\u001b[49m  \n\u001b[1;32m      4\u001b[0m \u001b[38;5;28mprint\u001b[39m(fahrenheit)\n\u001b[1;32m      6\u001b[0m \u001b[38;5;66;03m#Previously in the codes I have assigned some value to a variable naming as list but after changing the variable name also it is showing me the error.\u001b[39;00m\n\u001b[1;32m      7\u001b[0m \u001b[38;5;66;03m#I did not understand what is the problem that it is not executing.\u001b[39;00m\n",
            "\u001b[0;31mTypeError\u001b[0m: 'list' object is not callable"
          ],
          "output_type": "error"
        }
      ],
      "execution_count": 84
    },
    {
      "id": "3751cdd4-ad49-4405-97e1-57cc4ea73162",
      "cell_type": "code",
      "source": "",
      "metadata": {
        "trusted": true
      },
      "outputs": [],
      "execution_count": null
    }
  ]
}