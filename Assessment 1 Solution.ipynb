{
  "cells": [
    {
      "cell_type": "code",
      "execution_count": null,
      "id": "36472bcd-00f0-4355-a199-39d37792de27",
      "metadata": {
        "trusted": true
      },
      "outputs": [
        {
          "name": "stdout",
          "output_type": "stream",
          "text": [
            "7.5\n"
          ]
        }
      ],
      "source": [
        "#1. What is a valid variable name in Python? Give an example.\n",
        "   #A pyhton name must start with alphabets of either samll or capital, underscore or by digits otherwise it is not valid.\n",
        "variable = 10\n",
        "\n",
        "#2. What is the output of “print(3 + 4.5)”?\n",
        "print(3+4.5)\n",
        "\n",
        "#3. Which data type is used to store a sequence of characters in Python?\n",
        "   #String data type is used to to store a sequence of characters in python.\n",
        "\n",
        "\n"
      ]
    },
    {
      "cell_type": "code",
      "execution_count": null,
      "id": "3a0aa633-30a9-44b1-8bc0-b52ac747dccb",
      "metadata": {
        "trusted": true
      },
      "outputs": [],
      "source": [
        "#4. Write a statement to create a list of three fruits.\n",
        "fruits = [\"apple\", \"banana\", \"grapes\"]\n",
        "\n",
        "#5. Write a statement to create a dictionary with keys \"name\" and \"age\".\n",
        "details = {\"name\": \"Rahman\", \"age\": 20}\n"
      ]
    },
    {
      "cell_type": "code",
      "execution_count": 3,
      "id": "c5490460-d383-4994-9634-88e9877f04ef",
      "metadata": {
        "trusted": true
      },
      "outputs": [
        {
          "name": "stdout",
          "output_type": "stream",
          "text": [
            "Hello, World!\n",
            "I am 20 years old\n"
          ]
        }
      ],
      "source": [
        "#6. Write a Python script to print \"Hello, World!\".\n",
        "print(\"Hello, World!\")\n",
        "\n",
        "#7. Create a variable age and assign it the value 25. Print a statement that says \"I am 25 years old\" using the age variable.\n",
        "age = 20\n",
        "print(f\"I am {age} years old\")\n"
      ]
    },
    {
      "cell_type": "code",
      "execution_count": 5,
      "id": "7eff5838-bf0e-4a35-b0af-96162b78ea03",
      "metadata": {
        "trusted": true
      },
      "outputs": [
        {
          "name": "stdout",
          "output_type": "stream",
          "text": [
            "Even\n"
          ]
        }
      ],
      "source": [
        "#8. Write a Python script to check if a number stored in variable x is even or odd. Print \"Even\" if the number is even, and \"Odd\" if it is odd.\n",
        "x = 20\n",
        "if x % 2 == 0:\n",
        "    print(\"Even\")\n",
        "else:\n",
        "    print(\"Odd\")\n"
      ]
    },
    {
      "cell_type": "code",
      "execution_count": 7,
      "id": "16157e42-facb-484b-b0f5-1a0219e75861",
      "metadata": {
        "trusted": true
      },
      "outputs": [
        {
          "name": "stdout",
          "output_type": "stream",
          "text": [
            "Hello World\n"
          ]
        }
      ],
      "source": [
        "#9. What will be the output of the following code?\n",
        "x = \"Hello\"\n",
        "y = \"World\"\n",
        "print(x, y)\n",
        "\n",
        "#10. Which method can be used to remove whitespace from the beginning and the end of a string in Python?\n",
        "    #The .strip() method removes whitespaces.\n",
        "\n",
        "#11. What is the correct syntax to create a set in Python?\n",
        "    #A set can be created using curly braces {} or the set() function.\n",
        "\n"
      ]
    },
    {
      "cell_type": "code",
      "execution_count": 12,
      "id": "542565f6-64b8-44a7-a859-40f153943030",
      "metadata": {
        "scrolled": true,
        "trusted": true
      },
      "outputs": [
        {
          "name": "stdout",
          "output_type": "stream",
          "text": [
            "Key exists\n"
          ]
        }
      ],
      "source": [
        "#12. Write a statement to convert the string \"123\" into an integer.\n",
        "string = int(\"123\")\n",
        "\n",
        "#13. Write a statement to check if the key \"name\" exists in the dictionary person.\n",
        "person = {\"name\": \"Rahman\", \"age\": 20}\n",
        "if \"name\" in person:\n",
        "    print(\"Key exists\")"
      ]
    },
    {
      "cell_type": "code",
      "execution_count": 19,
      "id": "3b37ec05-7447-47dc-9a53-30168418e431",
      "metadata": {
        "trusted": true
      },
      "outputs": [
        {
          "name": "stdout",
          "output_type": "stream",
          "text": [
            "Hello, Sandeep!\n",
            "1\n",
            "2\n",
            "3\n",
            "4\n",
            "5\n",
            "6\n",
            "7\n",
            "8\n",
            "9\n",
            "10\n"
          ]
        }
      ],
      "source": [
        "#14. Write a Python function “greet(name)” that takes a name as an argument and returns a greeting in the format \"Hello, name!\".\n",
        "def greet(name):\n",
        "    return f\"Hello, {name}!\"\n",
        "\n",
        "print(greet(\"Sandeep\"))\n",
        "\n",
        "#15.Create a list of numbers from 1 to 10. Write a loop to print each number in the list.\n",
        "numbers = list(range(1, 11))\n",
        "for num in numbers:\n",
        "    print(num)\n",
        "\n",
        "#16. Write a Python script to read a text file \"data.txt\" and print its contents.\n",
        "    #with open(\"data.txt\", \"r\") as file:\n",
        "         #contents = file.read()\n",
        "         #print(contents)"
      ]
    },
    {
      "cell_type": "code",
      "execution_count": 23,
      "id": "8b81c112-7e04-4e69-be62-25f7126a7396",
      "metadata": {
        "trusted": true
      },
      "outputs": [
        {
          "name": "stdout",
          "output_type": "stream",
          "text": [
            "[2, 3, 4]\n",
            "Condition satisfied\n"
          ]
        }
      ],
      "source": [
        "#17. What will be the output of the following code?\n",
        "my_list = [1, 2, 3, 4, 5]\n",
        "print(my_list[1:4])\n",
        "\n",
        "#18. How do you create a dictionary with a default value for keys that do not exist?\n",
        "     #We can use collections.defaultdict to create a dictionary with a default value.\n",
        "\n",
        "#19. Which of the following statements will check if x is either greater than 5 or less than 3? Write the correct condition.\n",
        "x = 7\n",
        "if x > 5 or x < 3:\n",
        "   print(\"Condition satisfied\")"
      ]
    },
    {
      "cell_type": "code",
      "execution_count": 27,
      "id": "2a11e964-f9b6-4d53-a3d3-f99542a94932",
      "metadata": {
        "trusted": true
      },
      "outputs": [
        {
          "name": "stdout",
          "output_type": "stream",
          "text": [
            "{'a': 1, 'b': 2, 'c': 3}\n",
            "[1, 2, 3, 4, 5]\n"
          ]
        }
      ],
      "source": [
        "#20. Write a statement to create a dictionary from two lists: keys = [\"a\", \"b\", \"c\"] and values = [1, 2, 3].\n",
        "keys = [\"a\", \"b\", \"c\"]\n",
        "values = [1, 2, 3]\n",
        "my_dict = dict(zip(keys, values))\n",
        "print(my_dict)  # Output: {'a': 1, 'b': 2, 'c': 3}\n",
        "\n",
        "#21. Write a statement to remove duplicates from the list nums = [1, 2, 2, 3, 4, 4, 5].\n",
        "nums = [1, 2, 2, 3, 4, 4, 5]\n",
        "unique_nums = list(set(nums))\n",
        "print(unique_nums)"
      ]
    },
    {
      "cell_type": "code",
      "execution_count": 34,
      "id": "cd205a53-7d0c-4178-abdd-c9e4e2987c61",
      "metadata": {
        "trusted": true
      },
      "outputs": [
        {
          "name": "stdout",
          "output_type": "stream",
          "text": [
            "Hello, my name is Rahman and I am 20 years old.\n",
            "300\n",
            "name: Rahman\n",
            "age: 20\n",
            "city: Vadodara\n"
          ]
        }
      ],
      "source": [
        "# 22. Write a Python class Person with attributes name and age, and a method greet() that returns a greeting including the person's name and age.\n",
        "class Person:\n",
        "    def __init__(self, name, age):\n",
        "        self.name = name\n",
        "        self.age = age\n",
        "    \n",
        "    def greet(self):\n",
        "        return f\"Hello, my name is {self.name} and I am {self.age} years old.\"\n",
        "\n",
        "person1 = Person(\"Rahman\", 20)\n",
        "print(person1.greet())\n",
        "\n",
        "#23. Write a Python function find_max(nums) that takes a list of numbers and returns the maximum number.\n",
        "def find_max(nums):\n",
        "    return max(nums)\n",
        "\n",
        "numbers = [100, 200, 300, 50, 150]\n",
        "print(find_max(numbers))\n",
        "\n",
        "#24. Create a dictionary with some data about a person (name, age, city). Write a function that takes this dictionary as input and prints each key-value pair in the format \"key: value\".\n",
        "def print_person_info(person):\n",
        "    for key, value in person.items():\n",
        "        print(f\"{key}: {value}\")\n",
        "\n",
        "person_data = {\"name\": \"Rahman\", \"age\": 20, \"city\": \"Vadodara\"}\n",
        "print_person_info(person_data)\n",
        "\n",
        "#25. Write a Python script to count the number of lines, words, and characters in a text file \"data.txt\".\n",
        "def count_file_contents(filename):\n",
        "    with open(filename, \"r\") as file:\n",
        "        lines = file.readlines()\n",
        "        num_lines = len(lines)\n",
        "        num_words = sum(len(line.split()) for line in lines)\n",
        "        num_chars = sum(len(line) for line in lines)\n",
        "    \n",
        "    print(f\"Lines: {num_lines}\")\n",
        "    print(f\"Words: {num_words}\")\n",
        "    print(f\"Characters: {num_chars}\")\n",
        "\n",
        "count_file_contents(\"data.txt\")"
      ]
    },
    {
      "cell_type": "code",
      "execution_count": null,
      "id": "279cb8de-e1e8-486c-b8e8-7fbe43eb748b",
      "metadata": {
        "editable": true,
        "slideshow": {
          "slide_type": ""
        },
        "tags": [],
        "trusted": true
      },
      "outputs": [],
      "source": []
    }
  ],
  "metadata": {
    "kernelspec": {
      "display_name": "Python (Pyodide)",
      "language": "python",
      "name": "python"
    },
    "language_info": {
      "codemirror_mode": {
        "name": "python",
        "version": 3
      },
      "file_extension": ".py",
      "mimetype": "text/x-python",
      "name": "python",
      "nbconvert_exporter": "python",
      "pygments_lexer": "ipython3",
      "version": "3.8"
    }
  },
  "nbformat": 4,
  "nbformat_minor": 5
}
