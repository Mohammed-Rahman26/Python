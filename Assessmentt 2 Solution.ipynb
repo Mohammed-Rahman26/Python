{
  "metadata": {
    "kernelspec": {
      "name": "python",
      "display_name": "Python (Pyodide)",
      "language": "python"
    },
    "language_info": {
      "codemirror_mode": {
        "name": "python",
        "version": 3
      },
      "file_extension": ".py",
      "mimetype": "text/x-python",
      "name": "python",
      "nbconvert_exporter": "python",
      "pygments_lexer": "ipython3",
      "version": "3.8"
    }
  },
  "nbformat_minor": 5,
  "nbformat": 4,
  "cells": [
    {
      "id": "6b969ffe-7370-4304-8de4-7ea0f6341982",
      "cell_type": "code",
      "source": "#1. What is a for loop in Python? Provide an example.\n   #A for loop in Python is used to iterate like a list, tuple or a string.\nfor num in [1, 2, 3, 4, 5]:\n    print(num)\n\n#2. How does a while loop work in Python? Provide an example.\n   #A while loop executes a block of code untill the specified condition is True.\nx = 1\nwhile x <= 3:\n    print(x)\n    x += 1\n\n#3. What is a function in Python? Provide a simple example of a function that takes no arguments and returns the string \"Hello, World!\".\n   #A function in Python is a block of reusable code that performs a specific task.\ndef say_hello():\n    return \"Hello, World!\"",
      "metadata": {
        "trusted": true
      },
      "outputs": [
        {
          "name": "stdout",
          "output_type": "stream",
          "text": "1\n2\n3\n4\n5\n1\n2\n3\n"
        }
      ],
      "execution_count": 3
    },
    {
      "id": "b34fd602-0deb-47ea-b543-cf18c9698152",
      "cell_type": "code",
      "source": "#4. Write a statement to create a function named greet that prints \"Hello, Python!\".\ndef greet():\n    print(\"Hello, Python!\")\n\n#5. Write a statement to create a for loop that prints numbers from 1 to 5.\nfor i in range(1, 6):\n    print(i)",
      "metadata": {
        "trusted": true
      },
      "outputs": [
        {
          "name": "stdout",
          "output_type": "stream",
          "text": "1\n2\n3\n4\n5\n"
        }
      ],
      "execution_count": 4
    },
    {
      "id": "4d764792-b63b-4a7c-9acd-409ce54899ba",
      "cell_type": "code",
      "source": "#6. Write a Python script to use a for loop to print each character in the string \"Python\".\nfor char in \"Python\":\n    print(char)\n\n#7. Create a function square that takes a number as an argument and returns its square.\ndef square(num):\n    return num * num\n\n#8. Write a Python script to use a while loop to print numbers from 1 to 5.\nx = 1\nwhile x <= 5:\n    print(x)\n    x += 1",
      "metadata": {
        "trusted": true
      },
      "outputs": [
        {
          "name": "stdout",
          "output_type": "stream",
          "text": "P\ny\nt\nh\no\nn\n1\n2\n3\n4\n5\n"
        }
      ],
      "execution_count": 7
    },
    {
      "id": "31c5a8e0-05b3-4d5f-be80-59a4ca2204db",
      "cell_type": "code",
      "source": "#9. Explain the difference between break and continue in loops. Provide an example for each.\n   #break: Terminates the loop completely when encountered.\n   #conntinue: Skips the current iteration and moves to the next one.\n#example of Break:\nfor i in range(1, 6):\n    if i == 3:\n        break\n    print(i)\n#example of Continue:\nfor i in range(1, 6):\n    if i == 3:\n        continue\n    print(i)\n\n#10. How do you define a function with default arguments in Python? Provide an example.\ndef greet(name=\"Guest\"):\n    return f\"Hello, {name}!\"\n\n#11. What is the purpose of the return statement in a function? Provide an example.\n     #The return statement sends back a value from a function.\ndef add(a, b):\n    return a + b",
      "metadata": {
        "trusted": true
      },
      "outputs": [
        {
          "name": "stdout",
          "output_type": "stream",
          "text": "1\n2\n1\n2\n4\n5\n"
        }
      ],
      "execution_count": 14
    },
    {
      "id": "fb781a85-608d-45ee-8fae-f4e8d3bcb1de",
      "cell_type": "code",
      "source": "#12. Write a statement to create a while loop that prints \"Looping\" five times.\ncount = 0\nwhile count < 5:\n    print(\"Loop\")\n    count += 1\n\n#13. Write a statement to create a function add that takes two arguments and returns their sum.\ndef add(a, b):\n    return a + b",
      "metadata": {
        "trusted": true
      },
      "outputs": [
        {
          "name": "stdout",
          "output_type": "stream",
          "text": "Loop\nLoop\nLoop\nLoop\nLoop\n"
        }
      ],
      "execution_count": 17
    },
    {
      "id": "cd4d6863-826c-42a4-9cfa-0e3a95714c19",
      "cell_type": "code",
      "source": "#14. Write a Python function factorial that takes a number as an argument and returns its factorial using a for loop.\ndef factorial(n):\n    result = 1\n    for i in range(1, n + 1):\n        result *= i\n    return result\nprint(factorial(5))\n\n#15. Create a list of numbers from 1 to 10. Write a loop to print the square of each number in the list.\nnumbers = list(range(1, 11))\nfor num in numbers:\n    print(num ** 2)\n\n#16. Write a Python function count_vowels that takes a string as an argument and returns the number of vowels in the string.\ndef count_vowels(s):\n    vowels = \"aeiouAEIOU\"\n    count = sum(1 for char in s if char in vowels)\n    return count\nprint(count_vowels(\"Hello World\"))",
      "metadata": {
        "trusted": true
      },
      "outputs": [
        {
          "name": "stdout",
          "output_type": "stream",
          "text": "120\n1\n4\n9\n16\n25\n36\n49\n64\n81\n100\n3\n"
        }
      ],
      "execution_count": 24
    },
    {
      "id": "64658549-79ed-445a-8f76-19a6e6e382ae",
      "cell_type": "code",
      "source": "#17. How can you use a for loop to iterate over a dictionary in Python? Provide an example.\n     #We can iterate over a dictionary using .items(), .keys() or .values().\nmy_dict = {\"name\": \"Rahman\", \"age\": 20, \"city\": \"Vadodara\"}\nfor key, value in my_dict.items():\n    print(key, \":\", value)\n\n#18. Explain how you can use a lambda function in Python. Provide an example.\n     #A lambda function is function defined in a single line using the lambda keyword.\nsquare = lambda x: x * x\nprint(square(4))\n\n#19. What are recursive functions? Provide an example of a recursive function that calculates the sum of the first n natural numbers.\n    #A recursive function is a function that itself solves small problems.\ndef sum_n(n):\n    if n == 0:\n        return 0\n    return n + sum_n(n - 1)\nprint(sum_n(5))",
      "metadata": {
        "trusted": true
      },
      "outputs": [
        {
          "name": "stdout",
          "output_type": "stream",
          "text": "name : Rahman\nage : 20\ncity : Vadodara\n16\n15\n"
        }
      ],
      "execution_count": 29
    },
    {
      "id": "44d89604-6636-4958-9d9c-10c1cd3b6e95",
      "cell_type": "code",
      "source": "#20. Write a statement to create a nested loop that prints a 3x3 matrix of asterisks (*).\nfor i in range(3):\n    for j in range(3):\n        print(\"*\", end=\" \")\n    print()\n\n#21. Write a statement to create a function is_prime that checks if a given number is prime.\ndef is_prime(n):\n    if n < 2:\n        return False\n    for i in range(2, int(n ** 0.5) + 1):\n        if n % i == 0:\n            return False\n    return True",
      "metadata": {
        "trusted": true
      },
      "outputs": [
        {
          "name": "stdout",
          "output_type": "stream",
          "text": "* * * \n* * * \n* * * \n"
        }
      ],
      "execution_count": 31
    },
    {
      "id": "d3815a84-f73f-43b7-97a0-48093a72c5e5",
      "cell_type": "code",
      "source": "#22. Write a Python function fibonacci that takes a number n as an argument and returns a list of the first n Fibonacci numbers.\ndef fibonacci(n):\n    fib_seq = [0, 1]\n    for _ in range(n - 2):\n        fib_seq.append(fib_seq[-1] + fib_seq[-2])\n    return fib_seq[:n]\nprint(fibonacci(5))\n\n#23. Write a Python function map_custom that mimics the behaviour of the built-in map function, applying a given function to each element of a list.\ndef map_custom(func, lst):\n    return [func(item) for item in lst]\nprint(map_custom(lambda x: x * 2, [1, 2, 3, 4]))\n\n#24. Create a function find_max_in_matrix that takes a 2D list (matrix) as an argument and returns the maximum value in the matrix.\ndef find_max_in_matrix(matrix):\n    return max(max(row) for row in matrix)\nmatrix = [[1, 2, 3], [4, 5, 6], [7, 8, 9]]\nprint(find_max_in_matrix(matrix))\n\n#25. Write a Python script that uses a while loop to simulate a simple text-based menu system with options to add, view, and delete items from a list.\nitems = []\n\nchoice = input(\"1. Add\\n2. View\\n3. Delete\\nChoose: \")\n\nif choice == \"1\":\n    items.append(input(\"Enter item: \"))\nelif choice == \"2\":\n    print(\"Items:\", items)\nelif choice == \"3\":\n    item = input(\"Enter item to delete: \")\n    if item in items:\n        items.remove(item)\n    else:\n        print(\"Item not found.\")\nelse:\n    print(\"Invalid choice!\")\n\n# if we use while loop it keeps on iterating for the input and won't stop.",
      "metadata": {
        "trusted": true
      },
      "outputs": [
        {
          "name": "stdout",
          "output_type": "stream",
          "text": "[0, 1, 1, 2, 3]\n[2, 4, 6, 8]\n9\nInvalid choice!\n"
        }
      ],
      "execution_count": 3
    },
    {
      "id": "159c76ea-4946-440a-ba87-81e9cfae7675",
      "cell_type": "code",
      "source": "",
      "metadata": {
        "trusted": true
      },
      "outputs": [],
      "execution_count": null
    }
  ]
}